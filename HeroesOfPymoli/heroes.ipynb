{
 "cells": [
  {
   "cell_type": "code",
   "execution_count": 1,
   "metadata": {},
   "outputs": [],
   "source": [
    "#Dependencies and setup\n",
    "import pandas as pd\n",
    "\n",
    "#csv file\n",
    "csv_file = \"Resources/purchase_data.csv\"\n",
    "purchase_data = pd.read_csv(csv_file)\n"
   ]
  },
  {
   "cell_type": "code",
   "execution_count": 2,
   "metadata": {},
   "outputs": [
    {
     "data": {
      "text/html": [
       "<div>\n",
       "<style scoped>\n",
       "    .dataframe tbody tr th:only-of-type {\n",
       "        vertical-align: middle;\n",
       "    }\n",
       "\n",
       "    .dataframe tbody tr th {\n",
       "        vertical-align: top;\n",
       "    }\n",
       "\n",
       "    .dataframe thead th {\n",
       "        text-align: right;\n",
       "    }\n",
       "</style>\n",
       "<table border=\"1\" class=\"dataframe\">\n",
       "  <thead>\n",
       "    <tr style=\"text-align: right;\">\n",
       "      <th></th>\n",
       "      <th>Total Players</th>\n",
       "    </tr>\n",
       "  </thead>\n",
       "  <tbody>\n",
       "    <tr>\n",
       "      <th>0</th>\n",
       "      <td>576</td>\n",
       "    </tr>\n",
       "  </tbody>\n",
       "</table>\n",
       "</div>"
      ],
      "text/plain": [
       "   Total Players\n",
       "0            576"
      ]
     },
     "execution_count": 2,
     "metadata": {},
     "output_type": "execute_result"
    }
   ],
   "source": [
    "#Total number of players\n",
    "Total_players = len(purchase_data[\"SN\"].value_counts())\n",
    "\n",
    "#Display Data frame with Total # of players\n",
    "numberof_players = pd.DataFrame({\"Total Players\":[Total_players]})\n",
    "numberof_players.head()"
   ]
  },
  {
   "cell_type": "code",
   "execution_count": 3,
   "metadata": {},
   "outputs": [
    {
     "data": {
      "text/html": [
       "<style  type=\"text/css\" >\n",
       "</style><table id=\"T_20ab5400_a5fe_11ea_a8ac_f406697ab696\" ><thead>    <tr>        <th class=\"blank level0\" ></th>        <th class=\"col_heading level0 col0\" >Number of Unique Items</th>        <th class=\"col_heading level0 col1\" >Number of Purchases</th>        <th class=\"col_heading level0 col2\" >Total Revenue</th>        <th class=\"col_heading level0 col3\" >Average Price</th>    </tr></thead><tbody>\n",
       "                <tr>\n",
       "                        <th id=\"T_20ab5400_a5fe_11ea_a8ac_f406697ab696level0_row0\" class=\"row_heading level0 row0\" >0</th>\n",
       "                        <td id=\"T_20ab5400_a5fe_11ea_a8ac_f406697ab696row0_col0\" class=\"data row0 col0\" >179</td>\n",
       "                        <td id=\"T_20ab5400_a5fe_11ea_a8ac_f406697ab696row0_col1\" class=\"data row0 col1\" >780</td>\n",
       "                        <td id=\"T_20ab5400_a5fe_11ea_a8ac_f406697ab696row0_col2\" class=\"data row0 col2\" >$2,379.77</td>\n",
       "                        <td id=\"T_20ab5400_a5fe_11ea_a8ac_f406697ab696row0_col3\" class=\"data row0 col3\" >$3.05</td>\n",
       "            </tr>\n",
       "    </tbody></table>"
      ],
      "text/plain": [
       "<pandas.io.formats.style.Styler at 0x23757c143c8>"
      ]
     },
     "execution_count": 3,
     "metadata": {},
     "output_type": "execute_result"
    }
   ],
   "source": [
    "#Purchasing Analysis = # of Unique Items, Average Price, Purchase Count, Revenue. \n",
    "unique_items = len(purchase_data[\"Item ID\"].unique())\n",
    "total_purchases = purchase_data[\"Purchase ID\"].count()\n",
    "revenue = purchase_data[\"Price\"].sum()\n",
    "average = purchase_data[\"Price\"].mean()\n",
    "\n",
    "#Data  frame of the results\n",
    "total_purchasing_analysis_df = pd.DataFrame({\"Number of Unique Items\": unique_items,\n",
    "                                             \"Number of Purchases\": [total_purchases],\n",
    "                                             \"Total Revenue\": [revenue],\n",
    "                                             \"Average Price\":[average]})\n",
    "\n",
    "#conditional formatting = $\n",
    "total_purchasing_analysis_df.style.format({\"Average Price\":\"${:,.2f}\",\n",
    "                                           \"Total Revenue\":\"${:,.2f}\"})\n"
   ]
  },
  {
   "cell_type": "code",
   "execution_count": 4,
   "metadata": {},
   "outputs": [
    {
     "data": {
      "text/html": [
       "<style  type=\"text/css\" >\n",
       "</style><table id=\"T_20dc392e_a5fe_11ea_890d_f406697ab696\" ><thead>    <tr>        <th class=\"blank level0\" ></th>        <th class=\"col_heading level0 col0\" >Percentage of Players</th>        <th class=\"col_heading level0 col1\" >Total Count</th>    </tr></thead><tbody>\n",
       "                <tr>\n",
       "                        <th id=\"T_20dc392e_a5fe_11ea_890d_f406697ab696level0_row0\" class=\"row_heading level0 row0\" >Male</th>\n",
       "                        <td id=\"T_20dc392e_a5fe_11ea_890d_f406697ab696row0_col0\" class=\"data row0 col0\" >84.03</td>\n",
       "                        <td id=\"T_20dc392e_a5fe_11ea_890d_f406697ab696row0_col1\" class=\"data row0 col1\" >484</td>\n",
       "            </tr>\n",
       "            <tr>\n",
       "                        <th id=\"T_20dc392e_a5fe_11ea_890d_f406697ab696level0_row1\" class=\"row_heading level0 row1\" >Female</th>\n",
       "                        <td id=\"T_20dc392e_a5fe_11ea_890d_f406697ab696row1_col0\" class=\"data row1 col0\" >14.06</td>\n",
       "                        <td id=\"T_20dc392e_a5fe_11ea_890d_f406697ab696row1_col1\" class=\"data row1 col1\" >81</td>\n",
       "            </tr>\n",
       "            <tr>\n",
       "                        <th id=\"T_20dc392e_a5fe_11ea_890d_f406697ab696level0_row2\" class=\"row_heading level0 row2\" >Other / Non-Disclosed</th>\n",
       "                        <td id=\"T_20dc392e_a5fe_11ea_890d_f406697ab696row2_col0\" class=\"data row2 col0\" >1.91</td>\n",
       "                        <td id=\"T_20dc392e_a5fe_11ea_890d_f406697ab696row2_col1\" class=\"data row2 col1\" >11</td>\n",
       "            </tr>\n",
       "    </tbody></table>"
      ],
      "text/plain": [
       "<pandas.io.formats.style.Styler at 0x23758aaa9c8>"
      ]
     },
     "execution_count": 4,
     "metadata": {},
     "output_type": "execute_result"
    }
   ],
   "source": [
    "#Gender Demographics: Percentage and count of Male, Female, Other players\n",
    "gender_data = purchase_data.groupby(\"Gender\")\n",
    "gender_count = gender_data.nunique()[\"SN\"]\n",
    "percentage_players_bygender = gender_count / Total_players * 100\n",
    "\n",
    "#Data frame with results\n",
    "gender_demographics = pd.DataFrame({\"Percentage of Players\": percentage_players_bygender, \"Total Count\": gender_count})\n",
    "\n",
    "#formatting: skip index name, sorted values in descending order\n",
    "gender_demographics.index.name = None\n",
    "\n",
    "gender_demographics.sort_values([\"Total Count\"], ascending = False).style.format({\"Percentage of Players\":\"{:.2f}\"})\n",
    "\n",
    "\n"
   ]
  },
  {
   "cell_type": "code",
   "execution_count": 5,
   "metadata": {},
   "outputs": [
    {
     "data": {
      "text/html": [
       "<style  type=\"text/css\" >\n",
       "</style><table id=\"T_20e1687e_a5fe_11ea_a2bf_f406697ab696\" ><thead>    <tr>        <th class=\"blank level0\" ></th>        <th class=\"col_heading level0 col0\" >Purchase Count</th>        <th class=\"col_heading level0 col1\" >Average Purchase Price</th>        <th class=\"col_heading level0 col2\" >Average Purchase Value</th>        <th class=\"col_heading level0 col3\" >Average Purchase Total (Person)</th>    </tr>    <tr>        <th class=\"index_name level0\" >Gender</th>        <th class=\"blank\" ></th>        <th class=\"blank\" ></th>        <th class=\"blank\" ></th>        <th class=\"blank\" ></th>    </tr></thead><tbody>\n",
       "                <tr>\n",
       "                        <th id=\"T_20e1687e_a5fe_11ea_a2bf_f406697ab696level0_row0\" class=\"row_heading level0 row0\" >Female</th>\n",
       "                        <td id=\"T_20e1687e_a5fe_11ea_a2bf_f406697ab696row0_col0\" class=\"data row0 col0\" >113</td>\n",
       "                        <td id=\"T_20e1687e_a5fe_11ea_a2bf_f406697ab696row0_col1\" class=\"data row0 col1\" >$3.20</td>\n",
       "                        <td id=\"T_20e1687e_a5fe_11ea_a2bf_f406697ab696row0_col2\" class=\"data row0 col2\" >$361.94</td>\n",
       "                        <td id=\"T_20e1687e_a5fe_11ea_a2bf_f406697ab696row0_col3\" class=\"data row0 col3\" >$4.47</td>\n",
       "            </tr>\n",
       "            <tr>\n",
       "                        <th id=\"T_20e1687e_a5fe_11ea_a2bf_f406697ab696level0_row1\" class=\"row_heading level0 row1\" >Male</th>\n",
       "                        <td id=\"T_20e1687e_a5fe_11ea_a2bf_f406697ab696row1_col0\" class=\"data row1 col0\" >652</td>\n",
       "                        <td id=\"T_20e1687e_a5fe_11ea_a2bf_f406697ab696row1_col1\" class=\"data row1 col1\" >$3.02</td>\n",
       "                        <td id=\"T_20e1687e_a5fe_11ea_a2bf_f406697ab696row1_col2\" class=\"data row1 col2\" >$1,967.64</td>\n",
       "                        <td id=\"T_20e1687e_a5fe_11ea_a2bf_f406697ab696row1_col3\" class=\"data row1 col3\" >$4.07</td>\n",
       "            </tr>\n",
       "            <tr>\n",
       "                        <th id=\"T_20e1687e_a5fe_11ea_a2bf_f406697ab696level0_row2\" class=\"row_heading level0 row2\" >Other / Non-Disclosed</th>\n",
       "                        <td id=\"T_20e1687e_a5fe_11ea_a2bf_f406697ab696row2_col0\" class=\"data row2 col0\" >15</td>\n",
       "                        <td id=\"T_20e1687e_a5fe_11ea_a2bf_f406697ab696row2_col1\" class=\"data row2 col1\" >$3.35</td>\n",
       "                        <td id=\"T_20e1687e_a5fe_11ea_a2bf_f406697ab696row2_col2\" class=\"data row2 col2\" >$50.19</td>\n",
       "                        <td id=\"T_20e1687e_a5fe_11ea_a2bf_f406697ab696row2_col3\" class=\"data row2 col3\" >$4.56</td>\n",
       "            </tr>\n",
       "    </tbody></table>"
      ],
      "text/plain": [
       "<pandas.io.formats.style.Styler at 0x23758067588>"
      ]
     },
     "execution_count": 5,
     "metadata": {},
     "output_type": "execute_result"
    }
   ],
   "source": [
    "#Purchasing analysis classified by Gender: Purchase count, Average price, total purchase value, and average purchase by gender. \n",
    "gender_purchase_count = gender_data[\"Purchase ID\"].count()\n",
    "\n",
    "avg_price_purchase = gender_data[\"Price\"].mean()\n",
    "\n",
    "avg_price_total = gender_data[\"Price\"].sum()\n",
    "\n",
    "avg_purchase = avg_price_total / gender_count\n",
    "\n",
    "#Data Frame with results\n",
    "gender_demographics = pd.DataFrame({\"Purchase Count\": gender_purchase_count,\n",
    "                                    \"Average Purchase Price\": avg_price_purchase,\n",
    "                                    \"Average Purchase Value\": avg_price_total,\n",
    "                                    \"Average Purchase Total (Person)\": avg_purchase})\n",
    "\n",
    "#index \"gender\" \n",
    "gender_demographics.index.name = \"Gender\"\n",
    "\n",
    "#format = $\n",
    "gender_demographics.style.format({\"Average Purchase Value\":\"${:,.2f}\",\n",
    "                                  \"Average Purchase Price\":\"${:,.2f}\",\n",
    "                                  \"Average Purchase Total (Person)\":\"${:,.2f}\"})\n"
   ]
  },
  {
   "cell_type": "code",
   "execution_count": 6,
   "metadata": {},
   "outputs": [
    {
     "data": {
      "text/html": [
       "<style  type=\"text/css\" >\n",
       "</style><table id=\"T_20f4edb6_a5fe_11ea_b69e_f406697ab696\" ><thead>    <tr>        <th class=\"blank level0\" ></th>        <th class=\"col_heading level0 col0\" >Percentage of Players</th>        <th class=\"col_heading level0 col1\" >Total Count</th>    </tr></thead><tbody>\n",
       "                <tr>\n",
       "                        <th id=\"T_20f4edb6_a5fe_11ea_b69e_f406697ab696level0_row0\" class=\"row_heading level0 row0\" ><10</th>\n",
       "                        <td id=\"T_20f4edb6_a5fe_11ea_b69e_f406697ab696row0_col0\" class=\"data row0 col0\" >$2.95</td>\n",
       "                        <td id=\"T_20f4edb6_a5fe_11ea_b69e_f406697ab696row0_col1\" class=\"data row0 col1\" >17</td>\n",
       "            </tr>\n",
       "            <tr>\n",
       "                        <th id=\"T_20f4edb6_a5fe_11ea_b69e_f406697ab696level0_row1\" class=\"row_heading level0 row1\" >10-14</th>\n",
       "                        <td id=\"T_20f4edb6_a5fe_11ea_b69e_f406697ab696row1_col0\" class=\"data row1 col0\" >$3.82</td>\n",
       "                        <td id=\"T_20f4edb6_a5fe_11ea_b69e_f406697ab696row1_col1\" class=\"data row1 col1\" >22</td>\n",
       "            </tr>\n",
       "            <tr>\n",
       "                        <th id=\"T_20f4edb6_a5fe_11ea_b69e_f406697ab696level0_row2\" class=\"row_heading level0 row2\" >15-19</th>\n",
       "                        <td id=\"T_20f4edb6_a5fe_11ea_b69e_f406697ab696row2_col0\" class=\"data row2 col0\" >$18.58</td>\n",
       "                        <td id=\"T_20f4edb6_a5fe_11ea_b69e_f406697ab696row2_col1\" class=\"data row2 col1\" >107</td>\n",
       "            </tr>\n",
       "            <tr>\n",
       "                        <th id=\"T_20f4edb6_a5fe_11ea_b69e_f406697ab696level0_row3\" class=\"row_heading level0 row3\" >20-24</th>\n",
       "                        <td id=\"T_20f4edb6_a5fe_11ea_b69e_f406697ab696row3_col0\" class=\"data row3 col0\" >$44.79</td>\n",
       "                        <td id=\"T_20f4edb6_a5fe_11ea_b69e_f406697ab696row3_col1\" class=\"data row3 col1\" >258</td>\n",
       "            </tr>\n",
       "            <tr>\n",
       "                        <th id=\"T_20f4edb6_a5fe_11ea_b69e_f406697ab696level0_row4\" class=\"row_heading level0 row4\" >25-29</th>\n",
       "                        <td id=\"T_20f4edb6_a5fe_11ea_b69e_f406697ab696row4_col0\" class=\"data row4 col0\" >$13.37</td>\n",
       "                        <td id=\"T_20f4edb6_a5fe_11ea_b69e_f406697ab696row4_col1\" class=\"data row4 col1\" >77</td>\n",
       "            </tr>\n",
       "            <tr>\n",
       "                        <th id=\"T_20f4edb6_a5fe_11ea_b69e_f406697ab696level0_row5\" class=\"row_heading level0 row5\" >30-34</th>\n",
       "                        <td id=\"T_20f4edb6_a5fe_11ea_b69e_f406697ab696row5_col0\" class=\"data row5 col0\" >$9.03</td>\n",
       "                        <td id=\"T_20f4edb6_a5fe_11ea_b69e_f406697ab696row5_col1\" class=\"data row5 col1\" >52</td>\n",
       "            </tr>\n",
       "            <tr>\n",
       "                        <th id=\"T_20f4edb6_a5fe_11ea_b69e_f406697ab696level0_row6\" class=\"row_heading level0 row6\" >35-39</th>\n",
       "                        <td id=\"T_20f4edb6_a5fe_11ea_b69e_f406697ab696row6_col0\" class=\"data row6 col0\" >$5.38</td>\n",
       "                        <td id=\"T_20f4edb6_a5fe_11ea_b69e_f406697ab696row6_col1\" class=\"data row6 col1\" >31</td>\n",
       "            </tr>\n",
       "            <tr>\n",
       "                        <th id=\"T_20f4edb6_a5fe_11ea_b69e_f406697ab696level0_row7\" class=\"row_heading level0 row7\" >40+</th>\n",
       "                        <td id=\"T_20f4edb6_a5fe_11ea_b69e_f406697ab696row7_col0\" class=\"data row7 col0\" >$2.08</td>\n",
       "                        <td id=\"T_20f4edb6_a5fe_11ea_b69e_f406697ab696row7_col1\" class=\"data row7 col1\" >12</td>\n",
       "            </tr>\n",
       "    </tbody></table>"
      ],
      "text/plain": [
       "<pandas.io.formats.style.Styler at 0x23758ae06c8>"
      ]
     },
     "execution_count": 6,
     "metadata": {},
     "output_type": "execute_result"
    }
   ],
   "source": [
    "#Age Demographics: Percentage of players, total count. \n",
    "#Set up bins for ages\n",
    "age_bins = [0, 9.90, 14.90, 19.90, 24.90, 29.90, 34.90, 39.90, 99999]\n",
    "age_range = [\"<10\", \"10-14\", \"15-19\", \"20-24\", \"25-29\", \"30-34\", \"35-39\", \"40+\"]\n",
    "\n",
    "#sort age values into bins\n",
    "purchase_data[\"Age Group\"] = pd.cut(purchase_data[\"Age\"], age_bins, labels=age_range)\n",
    "purchase_data.head()\n",
    "\n",
    "\n",
    "#Data frame = adding \"Age Group\"\n",
    "age_groups = purchase_data.groupby(\"Age Group\")\n",
    "\n",
    "#Total count by age\n",
    "age_total_count = age_groups[\"SN\"].nunique()\n",
    "\n",
    "#Percentages by age\n",
    "age_percentage = (age_total_count/Total_players) * 100\n",
    "\n",
    "#Data Frame with Results\n",
    "age_demographics = pd.DataFrame({\"Percentage of Players\": age_percentage, \"Total Count\": age_total_count})\n",
    "\n",
    "#Format = no index name top left, percentage round to two decimal places\n",
    "age_demographics.index.name = None\n",
    "\n",
    "age_demographics.style.format({\"Percentage of Players\":\"${:,.2f}\"})\n"
   ]
  },
  {
   "cell_type": "code",
   "execution_count": 7,
   "metadata": {},
   "outputs": [
    {
     "data": {
      "text/html": [
       "<style  type=\"text/css\" >\n",
       "</style><table id=\"T_210899d2_a5fe_11ea_bbcc_f406697ab696\" ><thead>    <tr>        <th class=\"blank level0\" ></th>        <th class=\"col_heading level0 col0\" >Purchase Count</th>        <th class=\"col_heading level0 col1\" >Average Purchase Price</th>        <th class=\"col_heading level0 col2\" >Total Purchase Value</th>        <th class=\"col_heading level0 col3\" >Average Purchase Total (Person/Age)</th>    </tr></thead><tbody>\n",
       "                <tr>\n",
       "                        <th id=\"T_210899d2_a5fe_11ea_bbcc_f406697ab696level0_row0\" class=\"row_heading level0 row0\" ><10</th>\n",
       "                        <td id=\"T_210899d2_a5fe_11ea_bbcc_f406697ab696row0_col0\" class=\"data row0 col0\" >23</td>\n",
       "                        <td id=\"T_210899d2_a5fe_11ea_bbcc_f406697ab696row0_col1\" class=\"data row0 col1\" >$3.35</td>\n",
       "                        <td id=\"T_210899d2_a5fe_11ea_bbcc_f406697ab696row0_col2\" class=\"data row0 col2\" >$77.13</td>\n",
       "                        <td id=\"T_210899d2_a5fe_11ea_bbcc_f406697ab696row0_col3\" class=\"data row0 col3\" >$4.54</td>\n",
       "            </tr>\n",
       "            <tr>\n",
       "                        <th id=\"T_210899d2_a5fe_11ea_bbcc_f406697ab696level0_row1\" class=\"row_heading level0 row1\" >10-14</th>\n",
       "                        <td id=\"T_210899d2_a5fe_11ea_bbcc_f406697ab696row1_col0\" class=\"data row1 col0\" >28</td>\n",
       "                        <td id=\"T_210899d2_a5fe_11ea_bbcc_f406697ab696row1_col1\" class=\"data row1 col1\" >$2.96</td>\n",
       "                        <td id=\"T_210899d2_a5fe_11ea_bbcc_f406697ab696row1_col2\" class=\"data row1 col2\" >$82.78</td>\n",
       "                        <td id=\"T_210899d2_a5fe_11ea_bbcc_f406697ab696row1_col3\" class=\"data row1 col3\" >$3.76</td>\n",
       "            </tr>\n",
       "            <tr>\n",
       "                        <th id=\"T_210899d2_a5fe_11ea_bbcc_f406697ab696level0_row2\" class=\"row_heading level0 row2\" >15-19</th>\n",
       "                        <td id=\"T_210899d2_a5fe_11ea_bbcc_f406697ab696row2_col0\" class=\"data row2 col0\" >136</td>\n",
       "                        <td id=\"T_210899d2_a5fe_11ea_bbcc_f406697ab696row2_col1\" class=\"data row2 col1\" >$3.04</td>\n",
       "                        <td id=\"T_210899d2_a5fe_11ea_bbcc_f406697ab696row2_col2\" class=\"data row2 col2\" >$412.89</td>\n",
       "                        <td id=\"T_210899d2_a5fe_11ea_bbcc_f406697ab696row2_col3\" class=\"data row2 col3\" >$3.86</td>\n",
       "            </tr>\n",
       "            <tr>\n",
       "                        <th id=\"T_210899d2_a5fe_11ea_bbcc_f406697ab696level0_row3\" class=\"row_heading level0 row3\" >20-24</th>\n",
       "                        <td id=\"T_210899d2_a5fe_11ea_bbcc_f406697ab696row3_col0\" class=\"data row3 col0\" >365</td>\n",
       "                        <td id=\"T_210899d2_a5fe_11ea_bbcc_f406697ab696row3_col1\" class=\"data row3 col1\" >$3.05</td>\n",
       "                        <td id=\"T_210899d2_a5fe_11ea_bbcc_f406697ab696row3_col2\" class=\"data row3 col2\" >$1,114.06</td>\n",
       "                        <td id=\"T_210899d2_a5fe_11ea_bbcc_f406697ab696row3_col3\" class=\"data row3 col3\" >$4.32</td>\n",
       "            </tr>\n",
       "            <tr>\n",
       "                        <th id=\"T_210899d2_a5fe_11ea_bbcc_f406697ab696level0_row4\" class=\"row_heading level0 row4\" >25-29</th>\n",
       "                        <td id=\"T_210899d2_a5fe_11ea_bbcc_f406697ab696row4_col0\" class=\"data row4 col0\" >101</td>\n",
       "                        <td id=\"T_210899d2_a5fe_11ea_bbcc_f406697ab696row4_col1\" class=\"data row4 col1\" >$2.90</td>\n",
       "                        <td id=\"T_210899d2_a5fe_11ea_bbcc_f406697ab696row4_col2\" class=\"data row4 col2\" >$293.00</td>\n",
       "                        <td id=\"T_210899d2_a5fe_11ea_bbcc_f406697ab696row4_col3\" class=\"data row4 col3\" >$3.81</td>\n",
       "            </tr>\n",
       "            <tr>\n",
       "                        <th id=\"T_210899d2_a5fe_11ea_bbcc_f406697ab696level0_row5\" class=\"row_heading level0 row5\" >30-34</th>\n",
       "                        <td id=\"T_210899d2_a5fe_11ea_bbcc_f406697ab696row5_col0\" class=\"data row5 col0\" >73</td>\n",
       "                        <td id=\"T_210899d2_a5fe_11ea_bbcc_f406697ab696row5_col1\" class=\"data row5 col1\" >$2.93</td>\n",
       "                        <td id=\"T_210899d2_a5fe_11ea_bbcc_f406697ab696row5_col2\" class=\"data row5 col2\" >$214.00</td>\n",
       "                        <td id=\"T_210899d2_a5fe_11ea_bbcc_f406697ab696row5_col3\" class=\"data row5 col3\" >$4.12</td>\n",
       "            </tr>\n",
       "            <tr>\n",
       "                        <th id=\"T_210899d2_a5fe_11ea_bbcc_f406697ab696level0_row6\" class=\"row_heading level0 row6\" >35-39</th>\n",
       "                        <td id=\"T_210899d2_a5fe_11ea_bbcc_f406697ab696row6_col0\" class=\"data row6 col0\" >41</td>\n",
       "                        <td id=\"T_210899d2_a5fe_11ea_bbcc_f406697ab696row6_col1\" class=\"data row6 col1\" >$3.60</td>\n",
       "                        <td id=\"T_210899d2_a5fe_11ea_bbcc_f406697ab696row6_col2\" class=\"data row6 col2\" >$147.67</td>\n",
       "                        <td id=\"T_210899d2_a5fe_11ea_bbcc_f406697ab696row6_col3\" class=\"data row6 col3\" >$4.76</td>\n",
       "            </tr>\n",
       "            <tr>\n",
       "                        <th id=\"T_210899d2_a5fe_11ea_bbcc_f406697ab696level0_row7\" class=\"row_heading level0 row7\" >40+</th>\n",
       "                        <td id=\"T_210899d2_a5fe_11ea_bbcc_f406697ab696row7_col0\" class=\"data row7 col0\" >13</td>\n",
       "                        <td id=\"T_210899d2_a5fe_11ea_bbcc_f406697ab696row7_col1\" class=\"data row7 col1\" >$2.94</td>\n",
       "                        <td id=\"T_210899d2_a5fe_11ea_bbcc_f406697ab696row7_col2\" class=\"data row7 col2\" >$38.24</td>\n",
       "                        <td id=\"T_210899d2_a5fe_11ea_bbcc_f406697ab696row7_col3\" class=\"data row7 col3\" >$3.19</td>\n",
       "            </tr>\n",
       "    </tbody></table>"
      ],
      "text/plain": [
       "<pandas.io.formats.style.Styler at 0x23758ad46c8>"
      ]
     },
     "execution_count": 7,
     "metadata": {},
     "output_type": "execute_result"
    }
   ],
   "source": [
    "#Purchasing Analysis (Age) = purchase count, Avf. Purchase price, Total Purchase Value, Avg. Purchase per person by Age Group\n",
    "\n",
    "age_purchase_count = age_groups[\"Purchase ID\"].count()\n",
    "\n",
    "age_avg_purchase_price = age_groups[\"Price\"].mean()\n",
    "\n",
    "age_total_purchase = age_groups[\"Price\"].sum()\n",
    "\n",
    "age_avg_per_person = age_total_purchase / age_total_count\n",
    "\n",
    "#Data Frame with results\n",
    "\n",
    "age_demographics = pd.DataFrame({\"Purchase Count\": age_purchase_count,\n",
    "                                 \"Average Purchase Price\": age_avg_purchase_price,\n",
    "                                 \"Total Purchase Value\": age_total_purchase,\n",
    "                                 \"Average Purchase Total (Person/Age)\": age_avg_per_person})\n",
    "\n",
    "#Format = no index top left corner, $\n",
    "age_demographics.index.name = None\n",
    "age_demographics.style.format({\"Average Purchase Price\":\"${:,.2f}\", \n",
    "                               \"Total Purchase Value\":\"${:,.2f}\",\n",
    "                               \"Average Purchase Total (Person/Age)\":\"${:,.2f}\"})\n",
    "\n"
   ]
  },
  {
   "cell_type": "code",
   "execution_count": 23,
   "metadata": {},
   "outputs": [
    {
     "data": {
      "text/html": [
       "<style  type=\"text/css\" >\n",
       "</style><table id=\"T_0c2031e6_a683_11ea_9db4_f406697ab696\" ><thead>    <tr>        <th class=\"blank level0\" ></th>        <th class=\"col_heading level0 col0\" >Purchase Count</th>        <th class=\"col_heading level0 col1\" >Average Purchase Price</th>        <th class=\"col_heading level0 col2\" >Total Purchase Value</th>    </tr>    <tr>        <th class=\"index_name level0\" >SN</th>        <th class=\"blank\" ></th>        <th class=\"blank\" ></th>        <th class=\"blank\" ></th>    </tr></thead><tbody>\n",
       "                <tr>\n",
       "                        <th id=\"T_0c2031e6_a683_11ea_9db4_f406697ab696level0_row0\" class=\"row_heading level0 row0\" >Lisosia93</th>\n",
       "                        <td id=\"T_0c2031e6_a683_11ea_9db4_f406697ab696row0_col0\" class=\"data row0 col0\" >5</td>\n",
       "                        <td id=\"T_0c2031e6_a683_11ea_9db4_f406697ab696row0_col1\" class=\"data row0 col1\" >$3.79</td>\n",
       "                        <td id=\"T_0c2031e6_a683_11ea_9db4_f406697ab696row0_col2\" class=\"data row0 col2\" >$18.96</td>\n",
       "            </tr>\n",
       "            <tr>\n",
       "                        <th id=\"T_0c2031e6_a683_11ea_9db4_f406697ab696level0_row1\" class=\"row_heading level0 row1\" >Idastidru52</th>\n",
       "                        <td id=\"T_0c2031e6_a683_11ea_9db4_f406697ab696row1_col0\" class=\"data row1 col0\" >4</td>\n",
       "                        <td id=\"T_0c2031e6_a683_11ea_9db4_f406697ab696row1_col1\" class=\"data row1 col1\" >$3.86</td>\n",
       "                        <td id=\"T_0c2031e6_a683_11ea_9db4_f406697ab696row1_col2\" class=\"data row1 col2\" >$15.45</td>\n",
       "            </tr>\n",
       "            <tr>\n",
       "                        <th id=\"T_0c2031e6_a683_11ea_9db4_f406697ab696level0_row2\" class=\"row_heading level0 row2\" >Chamjask73</th>\n",
       "                        <td id=\"T_0c2031e6_a683_11ea_9db4_f406697ab696row2_col0\" class=\"data row2 col0\" >3</td>\n",
       "                        <td id=\"T_0c2031e6_a683_11ea_9db4_f406697ab696row2_col1\" class=\"data row2 col1\" >$4.61</td>\n",
       "                        <td id=\"T_0c2031e6_a683_11ea_9db4_f406697ab696row2_col2\" class=\"data row2 col2\" >$13.83</td>\n",
       "            </tr>\n",
       "            <tr>\n",
       "                        <th id=\"T_0c2031e6_a683_11ea_9db4_f406697ab696level0_row3\" class=\"row_heading level0 row3\" >Iral74</th>\n",
       "                        <td id=\"T_0c2031e6_a683_11ea_9db4_f406697ab696row3_col0\" class=\"data row3 col0\" >4</td>\n",
       "                        <td id=\"T_0c2031e6_a683_11ea_9db4_f406697ab696row3_col1\" class=\"data row3 col1\" >$3.40</td>\n",
       "                        <td id=\"T_0c2031e6_a683_11ea_9db4_f406697ab696row3_col2\" class=\"data row3 col2\" >$13.62</td>\n",
       "            </tr>\n",
       "            <tr>\n",
       "                        <th id=\"T_0c2031e6_a683_11ea_9db4_f406697ab696level0_row4\" class=\"row_heading level0 row4\" >Iskadarya95</th>\n",
       "                        <td id=\"T_0c2031e6_a683_11ea_9db4_f406697ab696row4_col0\" class=\"data row4 col0\" >3</td>\n",
       "                        <td id=\"T_0c2031e6_a683_11ea_9db4_f406697ab696row4_col1\" class=\"data row4 col1\" >$4.37</td>\n",
       "                        <td id=\"T_0c2031e6_a683_11ea_9db4_f406697ab696row4_col2\" class=\"data row4 col2\" >$13.10</td>\n",
       "            </tr>\n",
       "    </tbody></table>"
      ],
      "text/plain": [
       "<pandas.io.formats.style.Styler at 0x23758c30708>"
      ]
     },
     "execution_count": 23,
     "metadata": {},
     "output_type": "execute_result"
    }
   ],
   "source": [
    "#Top Spenders: TOP 5, Screen name, Purchase Count, Avg Purchase price, Total Purchase\n",
    "\n",
    "top_spenders = purchase_data.groupby(\"SN\")\n",
    "\n",
    "spenders_purchase_count = top_spenders[\"Purchase ID\"].count()\n",
    "\n",
    "spenders_avg_purchase = top_spenders[\"Price\"].mean()\n",
    "\n",
    "spenders_total_purchase = top_spenders[\"Price\"].sum()\n",
    "\n",
    "#Data Frame with results\n",
    "\n",
    "top_total_spenders = pd.DataFrame({\"Purchase Count\": spenders_purchase_count,\n",
    "                                   \"Average Purchase Price\": spenders_avg_purchase,\n",
    "                                   \"Total Purchase Value\": spenders_total_purchase})\n",
    "\n",
    "#Sort in descending order\n",
    "\n",
    "T_spenders = top_total_spenders.sort_values([\"Total Purchase Value\"], ascending = False).head()\n",
    "\n",
    "#formatting = $\n",
    "\n",
    "T_spenders.style.format({\"Average Purchase Total\":\"${:,.2f}\",\n",
    "                         \"Average Purchase Price\":\"${:,.2f}\",\n",
    "                         \"Total Purchase Value\":\"${:,.2f}\"})"
   ]
  },
  {
   "cell_type": "code",
   "execution_count": 22,
   "metadata": {
    "scrolled": true
   },
   "outputs": [
    {
     "data": {
      "text/html": [
       "<style  type=\"text/css\" >\n",
       "</style><table id=\"T_427ead58_a5ff_11ea_bddd_f406697ab696\" ><thead>    <tr>        <th class=\"blank\" ></th>        <th class=\"blank level0\" ></th>        <th class=\"col_heading level0 col0\" >Purchase Count</th>        <th class=\"col_heading level0 col1\" >Item Price</th>        <th class=\"col_heading level0 col2\" >Total Purchase Value</th>    </tr>    <tr>        <th class=\"index_name level0\" >Item ID</th>        <th class=\"index_name level1\" >Item Name</th>        <th class=\"blank\" ></th>        <th class=\"blank\" ></th>        <th class=\"blank\" ></th>    </tr></thead><tbody>\n",
       "                <tr>\n",
       "                        <th id=\"T_427ead58_a5ff_11ea_bddd_f406697ab696level0_row0\" class=\"row_heading level0 row0\" >92</th>\n",
       "                        <th id=\"T_427ead58_a5ff_11ea_bddd_f406697ab696level1_row0\" class=\"row_heading level1 row0\" >Final Critic</th>\n",
       "                        <td id=\"T_427ead58_a5ff_11ea_bddd_f406697ab696row0_col0\" class=\"data row0 col0\" >13</td>\n",
       "                        <td id=\"T_427ead58_a5ff_11ea_bddd_f406697ab696row0_col1\" class=\"data row0 col1\" >$4.61</td>\n",
       "                        <td id=\"T_427ead58_a5ff_11ea_bddd_f406697ab696row0_col2\" class=\"data row0 col2\" >$59.99</td>\n",
       "            </tr>\n",
       "            <tr>\n",
       "                        <th id=\"T_427ead58_a5ff_11ea_bddd_f406697ab696level0_row1\" class=\"row_heading level0 row1\" >178</th>\n",
       "                        <th id=\"T_427ead58_a5ff_11ea_bddd_f406697ab696level1_row1\" class=\"row_heading level1 row1\" >Oathbreaker, Last Hope of the Breaking Storm</th>\n",
       "                        <td id=\"T_427ead58_a5ff_11ea_bddd_f406697ab696row1_col0\" class=\"data row1 col0\" >12</td>\n",
       "                        <td id=\"T_427ead58_a5ff_11ea_bddd_f406697ab696row1_col1\" class=\"data row1 col1\" >$4.23</td>\n",
       "                        <td id=\"T_427ead58_a5ff_11ea_bddd_f406697ab696row1_col2\" class=\"data row1 col2\" >$50.76</td>\n",
       "            </tr>\n",
       "            <tr>\n",
       "                        <th id=\"T_427ead58_a5ff_11ea_bddd_f406697ab696level0_row2\" class=\"row_heading level0 row2\" >145</th>\n",
       "                        <th id=\"T_427ead58_a5ff_11ea_bddd_f406697ab696level1_row2\" class=\"row_heading level1 row2\" >Fiery Glass Crusader</th>\n",
       "                        <td id=\"T_427ead58_a5ff_11ea_bddd_f406697ab696row2_col0\" class=\"data row2 col0\" >9</td>\n",
       "                        <td id=\"T_427ead58_a5ff_11ea_bddd_f406697ab696row2_col1\" class=\"data row2 col1\" >$4.58</td>\n",
       "                        <td id=\"T_427ead58_a5ff_11ea_bddd_f406697ab696row2_col2\" class=\"data row2 col2\" >$41.22</td>\n",
       "            </tr>\n",
       "            <tr>\n",
       "                        <th id=\"T_427ead58_a5ff_11ea_bddd_f406697ab696level0_row3\" class=\"row_heading level0 row3\" >132</th>\n",
       "                        <th id=\"T_427ead58_a5ff_11ea_bddd_f406697ab696level1_row3\" class=\"row_heading level1 row3\" >Persuasion</th>\n",
       "                        <td id=\"T_427ead58_a5ff_11ea_bddd_f406697ab696row3_col0\" class=\"data row3 col0\" >9</td>\n",
       "                        <td id=\"T_427ead58_a5ff_11ea_bddd_f406697ab696row3_col1\" class=\"data row3 col1\" >$3.22</td>\n",
       "                        <td id=\"T_427ead58_a5ff_11ea_bddd_f406697ab696row3_col2\" class=\"data row3 col2\" >$28.99</td>\n",
       "            </tr>\n",
       "            <tr>\n",
       "                        <th id=\"T_427ead58_a5ff_11ea_bddd_f406697ab696level0_row4\" class=\"row_heading level0 row4\" >108</th>\n",
       "                        <th id=\"T_427ead58_a5ff_11ea_bddd_f406697ab696level1_row4\" class=\"row_heading level1 row4\" >Extraction, Quickblade Of Trembling Hands</th>\n",
       "                        <td id=\"T_427ead58_a5ff_11ea_bddd_f406697ab696row4_col0\" class=\"data row4 col0\" >9</td>\n",
       "                        <td id=\"T_427ead58_a5ff_11ea_bddd_f406697ab696row4_col1\" class=\"data row4 col1\" >$3.53</td>\n",
       "                        <td id=\"T_427ead58_a5ff_11ea_bddd_f406697ab696row4_col2\" class=\"data row4 col2\" >$31.77</td>\n",
       "            </tr>\n",
       "    </tbody></table>"
      ],
      "text/plain": [
       "<pandas.io.formats.style.Styler at 0x23758be8588>"
      ]
     },
     "execution_count": 22,
     "metadata": {},
     "output_type": "execute_result"
    }
   ],
   "source": [
    "#Most Popular Items: Item ID, Item Name, Purchase Count, Item Price, Total Purchase Value\n",
    "\n",
    "#Determine items data frame, classified items \n",
    "itemsDF = purchase_data[[\"Item ID\", \"Item Name\", \"Price\"]]\n",
    "\n",
    "purchase_data.head()\n",
    "\n",
    "items_data = itemsDF.groupby([\"Item ID\", \"Item Name\"])\n",
    "\n",
    "#Count purchased items, detemine value per item\n",
    "\n",
    "itemsDF_count = items_data[\"Price\"].count()\n",
    "itemsDF_value = (items_data[\"Price\"].sum())\n",
    "items_price = itemsDF_value/itemsDF_count\n",
    "\n",
    "#Data Frame with results\n",
    "\n",
    "popular_items = pd.DataFrame({\"Purchase Count\": itemsDF_count,\n",
    "                             \"Item Price\": items_price,\n",
    "                             \"Total Purchase Value\": itemsDF_value})\n",
    "\n",
    "#Format = $, Sort by descending order\n",
    "T_popular = popular_items.sort_values([\"Purchase Count\"], ascending = False).head()\n",
    "\n",
    "# T_popular = popular_items[[\"Item Price\", \"Total Purchase Value\"]]\n",
    "\n",
    "#popular_items.head()\n",
    "T_popular.style.format({\"Item Price\":\"${:,.2f}\",\n",
    "                       \"Total Purchase Value\":\"${:,.2f}\"})\n",
    "\n"
   ]
  },
  {
   "cell_type": "code",
   "execution_count": 18,
   "metadata": {},
   "outputs": [
    {
     "data": {
      "text/html": [
       "<style  type=\"text/css\" >\n",
       "</style><table id=\"T_bc586424_a5fe_11ea_9d24_f406697ab696\" ><thead>    <tr>        <th class=\"blank\" ></th>        <th class=\"blank level0\" ></th>        <th class=\"col_heading level0 col0\" >Purchase Count</th>        <th class=\"col_heading level0 col1\" >Item Price</th>        <th class=\"col_heading level0 col2\" >Total Purchase Value</th>    </tr>    <tr>        <th class=\"index_name level0\" >Item ID</th>        <th class=\"index_name level1\" >Item Name</th>        <th class=\"blank\" ></th>        <th class=\"blank\" ></th>        <th class=\"blank\" ></th>    </tr></thead><tbody>\n",
       "                <tr>\n",
       "                        <th id=\"T_bc586424_a5fe_11ea_9d24_f406697ab696level0_row0\" class=\"row_heading level0 row0\" >92</th>\n",
       "                        <th id=\"T_bc586424_a5fe_11ea_9d24_f406697ab696level1_row0\" class=\"row_heading level1 row0\" >Final Critic</th>\n",
       "                        <td id=\"T_bc586424_a5fe_11ea_9d24_f406697ab696row0_col0\" class=\"data row0 col0\" >13</td>\n",
       "                        <td id=\"T_bc586424_a5fe_11ea_9d24_f406697ab696row0_col1\" class=\"data row0 col1\" >4.614615</td>\n",
       "                        <td id=\"T_bc586424_a5fe_11ea_9d24_f406697ab696row0_col2\" class=\"data row0 col2\" >$59.99</td>\n",
       "            </tr>\n",
       "            <tr>\n",
       "                        <th id=\"T_bc586424_a5fe_11ea_9d24_f406697ab696level0_row1\" class=\"row_heading level0 row1\" >178</th>\n",
       "                        <th id=\"T_bc586424_a5fe_11ea_9d24_f406697ab696level1_row1\" class=\"row_heading level1 row1\" >Oathbreaker, Last Hope of the Breaking Storm</th>\n",
       "                        <td id=\"T_bc586424_a5fe_11ea_9d24_f406697ab696row1_col0\" class=\"data row1 col0\" >12</td>\n",
       "                        <td id=\"T_bc586424_a5fe_11ea_9d24_f406697ab696row1_col1\" class=\"data row1 col1\" >4.230000</td>\n",
       "                        <td id=\"T_bc586424_a5fe_11ea_9d24_f406697ab696row1_col2\" class=\"data row1 col2\" >$50.76</td>\n",
       "            </tr>\n",
       "            <tr>\n",
       "                        <th id=\"T_bc586424_a5fe_11ea_9d24_f406697ab696level0_row2\" class=\"row_heading level0 row2\" >82</th>\n",
       "                        <th id=\"T_bc586424_a5fe_11ea_9d24_f406697ab696level1_row2\" class=\"row_heading level1 row2\" >Nirvana</th>\n",
       "                        <td id=\"T_bc586424_a5fe_11ea_9d24_f406697ab696row2_col0\" class=\"data row2 col0\" >9</td>\n",
       "                        <td id=\"T_bc586424_a5fe_11ea_9d24_f406697ab696row2_col1\" class=\"data row2 col1\" >4.900000</td>\n",
       "                        <td id=\"T_bc586424_a5fe_11ea_9d24_f406697ab696row2_col2\" class=\"data row2 col2\" >$44.10</td>\n",
       "            </tr>\n",
       "            <tr>\n",
       "                        <th id=\"T_bc586424_a5fe_11ea_9d24_f406697ab696level0_row3\" class=\"row_heading level0 row3\" >145</th>\n",
       "                        <th id=\"T_bc586424_a5fe_11ea_9d24_f406697ab696level1_row3\" class=\"row_heading level1 row3\" >Fiery Glass Crusader</th>\n",
       "                        <td id=\"T_bc586424_a5fe_11ea_9d24_f406697ab696row3_col0\" class=\"data row3 col0\" >9</td>\n",
       "                        <td id=\"T_bc586424_a5fe_11ea_9d24_f406697ab696row3_col1\" class=\"data row3 col1\" >4.580000</td>\n",
       "                        <td id=\"T_bc586424_a5fe_11ea_9d24_f406697ab696row3_col2\" class=\"data row3 col2\" >$41.22</td>\n",
       "            </tr>\n",
       "            <tr>\n",
       "                        <th id=\"T_bc586424_a5fe_11ea_9d24_f406697ab696level0_row4\" class=\"row_heading level0 row4\" >103</th>\n",
       "                        <th id=\"T_bc586424_a5fe_11ea_9d24_f406697ab696level1_row4\" class=\"row_heading level1 row4\" >Singed Scalpel</th>\n",
       "                        <td id=\"T_bc586424_a5fe_11ea_9d24_f406697ab696row4_col0\" class=\"data row4 col0\" >8</td>\n",
       "                        <td id=\"T_bc586424_a5fe_11ea_9d24_f406697ab696row4_col1\" class=\"data row4 col1\" >4.350000</td>\n",
       "                        <td id=\"T_bc586424_a5fe_11ea_9d24_f406697ab696row4_col2\" class=\"data row4 col2\" >$34.80</td>\n",
       "            </tr>\n",
       "    </tbody></table>"
      ],
      "text/plain": [
       "<pandas.io.formats.style.Styler at 0x23758b65d88>"
      ]
     },
     "execution_count": 18,
     "metadata": {},
     "output_type": "execute_result"
    }
   ],
   "source": [
    "#Most Profitable Items: Top 5, Item ID, Item Name, Purchase Count, Item Price, Total Purchase Value\n",
    "\n",
    "most_profitable_items = popular_items.sort_values([\"Total Purchase Value\"], ascending = False).head()\n",
    "\n",
    "most_profitable_items.style.format({\"Item Price:\":\"${:,.2f}\",\n",
    "                                  \"Total Purchase Value\":\"${:,.2f}\"})\n"
   ]
  },
  {
   "cell_type": "code",
   "execution_count": null,
   "metadata": {},
   "outputs": [],
   "source": []
  }
 ],
 "metadata": {
  "kernelspec": {
   "display_name": "Python 3",
   "language": "python",
   "name": "python3"
  },
  "language_info": {
   "codemirror_mode": {
    "name": "ipython",
    "version": 3
   },
   "file_extension": ".py",
   "mimetype": "text/x-python",
   "name": "python",
   "nbconvert_exporter": "python",
   "pygments_lexer": "ipython3",
   "version": "3.7.6"
  }
 },
 "nbformat": 4,
 "nbformat_minor": 4
}
